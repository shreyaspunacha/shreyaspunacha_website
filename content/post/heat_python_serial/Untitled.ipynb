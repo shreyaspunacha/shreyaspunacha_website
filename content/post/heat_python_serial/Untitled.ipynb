{
 "cells": [
  {
   "cell_type": "markdown",
   "id": "303ae830",
   "metadata": {},
   "source": [
    "# Simulating Two Dimentional Heat Equation Using Python And Finite Difference Explicit Method"
   ]
  },
  {
   "cell_type": "markdown",
   "id": "a77b80c5",
   "metadata": {},
   "source": [
    "# Introduction\n",
    "\n",
    "In this post, we will illustrate how to simulate the heat equation on a two dimensional surface using Python programming language. We use finite difference explit method to solve the heat equation described in the [**previous blog post**](https://shreyaspunacha.github.io/post/heat_equation/).\n",
    "\n",
    "Here, we will solve the heat equation on a surface having dimensions $L_{x}$ x $L_{y}$ and diffusion coefficient, $D$. We divide the domain into mesh having $nx$ and $ny$ points with the grid spacing $dx$ and $dy$. Therefore, $L_{x}= n_{x} dx$ and $L_{y} = n_{y} dy$. We are seeking the solution for the temperature field $u(x,y)$ for $t \\in (0,T]$.\n",
    "\n",
    "As an initial condition, we use a Guassian heat pulse of the following form centered on the domain. Here, the parameter $\\alpha$ controls the width of the Guassian and the function is centered at $(x_{0},y_{0})$.\n",
    "\n",
    "\n",
    "$$\n",
    "u(x,y) = e^{-\\alpha(x-x_{0})^2 - \\alpha (y-y_{0})^2}\n",
    "$$\n",
    "\n",
    "\n",
    "Initially, for simplicity, we use the following Dirichlet boundary conditions: $ u(x, 0, t) = u(x, L_{y}, t) = u(0, y, t) = u(L_{x}, y, t) = 0$. Note that these boundary conditions need to applied at each timestep.\n",
    "\n"
   ]
  },
  {
   "cell_type": "markdown",
   "id": "11d30001",
   "metadata": {},
   "source": [
    "# The Python Code"
   ]
  },
  {
   "cell_type": "markdown",
   "id": "275b2a6d",
   "metadata": {},
   "source": [
    "```python\n",
    "# import packages\n",
    "\n",
    "import time\n",
    "import numpy as np\n",
    "import matplotlib.pyplot as plt\n",
    "%matplotlib inline\n",
    "```"
   ]
  },
  {
   "cell_type": "markdown",
   "id": "778c0b29",
   "metadata": {},
   "source": [
    "```python\n",
    "\n",
    "def Initial_Condition(nx, ny, dx, dy):\n",
    "    \n",
    "    \"\"\"\n",
    "    Generate a mesh using meshgrid command and then define \n",
    "    the Guassian heat pulse as initial condition located at \n",
    "    the center of the domain. i.e at the point (nx/2, ny/2).\n",
    "    \n",
    "    \"\"\" \n",
    "    x = np.arange(0, nx, dx) \n",
    "    y = np.arange(0, ny, dy) \n",
    "    x, y = np.meshgrid(x, y)\n",
    "    alpha = 0.01\n",
    "    u0  = np.exp(-alpha*(x-(nx/2))**2-alpha*(y-(ny/2))**2) \n",
    "    np.savetxt(\"Initial_Condition.dat\",u0)\n",
    "    return None\n",
    "```"
   ]
  },
  {
   "cell_type": "code",
   "execution_count": null,
   "id": "51d2fae3",
   "metadata": {},
   "outputs": [],
   "source": []
  },
  {
   "cell_type": "markdown",
   "id": "955558d0",
   "metadata": {},
   "source": [
    "```python\n",
    "def Evolution(u, u_previous, D, dt, dx2, dy2):\n",
    "\n",
    "    \"\"\"\n",
    "\n",
    "    Evolution function using finite difference \n",
    "    explicit method. Apply dirichlet initial\n",
    "    condition here. Note that it applies at\n",
    "    all timesteps.\n",
    "\n",
    "    u:              new temperature field\n",
    "    u_previous:     previous temperature field\n",
    "    D:              Diffusion constant\n",
    "    dt:             time step\n",
    "    dx2:        square of grid spacing along x direction, dx^2\n",
    "    dy2:        square of grid spacing along x direction, dy^2\n",
    "\n",
    "    \"\"\"\n",
    "    \n",
    "    # Dirichlet boundary conditions.\n",
    "    \n",
    "    u0[0, :] = 0.0\n",
    "    u0[-1, :] = 0.0\n",
    "    u0[:, 0] = 0.0\n",
    "    u0[:, -1] = 0.0\n",
    "\n",
    "    # Use numpy slicing to vectorise the finite difference scheme.\n",
    "    \n",
    "    u[1:-1, 1:-1] = u_previous[1:-1, 1:-1] + \\\n",
    "                    D*dt*( (u_previous[2:, 1:-1] - 2 * u_previous[1:-1, 1:-1] + u_previous[:-2, 1:-1]) / dx2 + \\\n",
    "                    (u_previous[1:-1, 2:] - 2 *u_previous[1:-1, 1:-1] + u_previous[1:-1, :-2]) / dy2 )\n",
    "    u_previous[:] = u[:]  # Array exchange before next time step \n",
    "    return None\n",
    "```"
   ]
  },
  {
   "cell_type": "markdown",
   "id": "598cda9c",
   "metadata": {},
   "source": [
    "<div class=\"alert alert-block alert-info\">\n",
    "Note that we have used numpy slicing to vectorise the finite difference scheme. The equivalent scalar version using for loops is given below. However, it is very slow. \n",
    "\n",
    "```python\n",
    "for i in range(1, nx):\n",
    "    for j in range(1, ny):\n",
    "        u[i,j] = u_previous[i,j] + D*dt* ( (u_previous[i+1,j]-2*u_previous[i,j]+u_previous[i-1,j])/dx2 +\n",
    "                 (u_previous[i,j+1]-2*u_previous[i,j]+u_previous[i,j-1])/dy2 )\n",
    "```\n",
    "</div>                  "
   ]
  },
  {
   "cell_type": "markdown",
   "id": "8c022e9e",
   "metadata": {},
   "source": [
    "```python\n",
    "def Iteration(field, field0, D, dt, dx2, dy2, timesteps, saving_interval):\n",
    "\n",
    "    \"\"\"\n",
    "\n",
    "    Run fixed number of time steps of the heat equation. \n",
    "    saving_interval is the image plotting and saving \n",
    "    interval whose value can be defined according to \n",
    "    convinence.\n",
    "\n",
    "    \"\"\"\n",
    "\n",
    "    for t in range(1, timesteps+1):\n",
    "        Evolution(field, field0, D, dt, dx2, dy2)\n",
    "        if t % saving_interval == 0:\n",
    "            Plot_Field(field, t)\n",
    "    return None\n",
    "```"
   ]
  },
  {
   "cell_type": "markdown",
   "id": "9016ed93",
   "metadata": {},
   "source": [
    "```python\n",
    "def Read_Fields(filename):\n",
    "\n",
    "    \"\"\"\n",
    "    \n",
    "    Read the initial temperatue field from file\n",
    "    \n",
    "    \"\"\"\n",
    "\n",
    "    field = np.loadtxt(filename)\n",
    "    field0 = field.copy() # Array for field of previous time step\n",
    "    return field, field0\n",
    "```"
   ]
  },
  {
   "cell_type": "markdown",
   "id": "a8cc37a2",
   "metadata": {},
   "source": [
    "```python\n",
    "def Plot_Field(field, step):\n",
    "    \"\"\"\n",
    "    \n",
    "    Function to plot the field at the desired timestep.\n",
    "    \n",
    "    \"\"\"\n",
    "    plt.gca().clear()\n",
    "    plt.imshow(field)\n",
    "    plt.axis(\"off\")\n",
    "    plt.savefig(\"heat_{0:03d}.png\".format(step))\n",
    "    plt.clf()\n",
    "    return None\n",
    "```"
   ]
  },
  {
   "cell_type": "markdown",
   "id": "87fca2ca",
   "metadata": {},
   "source": [
    "```python\n",
    "def main(input_file, D, dt, nx, ny, dx, dy, timesteps, saving_interval):\n",
    "\n",
    "\n",
    "    # Initial condition\n",
    "    Initial_Condition(nx, ny, dx, dy)\n",
    "\n",
    "    # Read the initial temperature field from file \n",
    "    field, field0 = Read_Fields(input_file)\n",
    "\n",
    "    # Plot the initial field. i.e at t=0.\n",
    "    Plot_Field(field, 0)\n",
    "\n",
    "    # Iterate\n",
    "    t0 = time.time()\n",
    "    Iteration(field, field0, D, dt, dx2, dy2, timesteps, saving_interval)\n",
    "    t1 = time.time()\n",
    "\n",
    "    # Plot the final field\n",
    "    Plot_Field(field, timesteps)\n",
    "    \n",
    "    # print the time taken to perform the iterations.\n",
    "    print(\"Simulations finished in {0} s\".format(t1-t0))\n",
    "    return None\n",
    "```"
   ]
  },
  {
   "cell_type": "markdown",
   "id": "670b8de1",
   "metadata": {},
   "source": [
    "\n",
    "```python\n",
    "if __name__ == \"__main__\":    \n",
    "    input_file = \"Initial_Condition.dat\" \n",
    "    D = 20\n",
    "    nx, ny = 50, 50\n",
    "    dx, dy = 0.1, 0.1\n",
    "    dx2 = dx*dx\n",
    "    dy2 = dy*dy\n",
    "    # For stability, this is the largest interval possible\n",
    "    # for the size fo the time step:\n",
    "    dt = dx2*dy2 / (2*D*(dx2+dy2))\n",
    "    timesteps = 20000\n",
    "    saving_interval = 500\n",
    "    main(input_file, D, dt, nx, ny, dx, dy, timesteps, saving_interval)\n",
    "```"
   ]
  },
  {
   "cell_type": "code",
   "execution_count": null,
   "id": "9a168504",
   "metadata": {},
   "outputs": [],
   "source": []
  }
 ],
 "metadata": {
  "kernelspec": {
   "display_name": "Python 3",
   "language": "python",
   "name": "python3"
  },
  "language_info": {
   "codemirror_mode": {
    "name": "ipython",
    "version": 3
   },
   "file_extension": ".py",
   "mimetype": "text/x-python",
   "name": "python",
   "nbconvert_exporter": "python",
   "pygments_lexer": "ipython3",
   "version": "3.8.8"
  }
 },
 "nbformat": 4,
 "nbformat_minor": 5
}
