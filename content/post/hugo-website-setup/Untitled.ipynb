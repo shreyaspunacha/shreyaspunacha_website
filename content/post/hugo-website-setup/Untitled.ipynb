{
 "cells": [
  {
   "cell_type": "markdown",
   "id": "c10bff9f",
   "metadata": {},
   "source": [
    "# How To Build A Academic Website Using Hugo And Github Pages"
   ]
  },
  {
   "cell_type": "markdown",
   "id": "78bfb1cb",
   "metadata": {},
   "source": [
    "## 1. Introduction"
   ]
  },
  {
   "cell_type": "markdown",
   "id": "fc466b5b",
   "metadata": {},
   "source": [
    "Internet and social media are powerful tools to build your pressence as an acadamic scholar, network with peers and to promote your research. Besides social media, the most essential online presence that one can have is a personal website. \n",
    "\n",
    "This post describes how to setup a personal academic website using the static website generator [**Hugo**](https://gohugo.io/) and publish it using [**GitHub Pages**](https://pages.github.com/). The post is targeted towards students, scientists and faculty members who have a basic knowledge about how to use git, command line tools and Github. \n",
    "\n",
    "Our final goal is to have two Github repositories: a source repository called <span style=\"color:DimGray;background-color: #F0FFFF\">username_website</span>, which contains the website's unprocessed resources and a host repository called <span style=\"color:DimGray;background-color: #F0FFFF\">username.github.io</span> which hosts the website.\n",
    "\n",
    "***"
   ]
  },
  {
   "cell_type": "markdown",
   "id": "9b115fab",
   "metadata": {},
   "source": [
    "##  2. Create a Website"
   ]
  },
  {
   "cell_type": "markdown",
   "id": "054767c0",
   "metadata": {},
   "source": [
    "### 2.1 Prerequisites\n",
    "\n",
    "\n",
    "As mentioned before, you need to have a certain prerequisites to follow this post. The requirements are listed below.\n",
    "\n",
    "* You must have a [**Github**](https://github.com) account.\n",
    "* You must have [**Git**](https://git-scm.com/book/en/v2/Getting-Started-Installing-Git) installed.\n",
    "* You must have [**Go**](https://go.dev/dl/) installed.\n",
    "* You must have basic [**Command line**](https://developer.mozilla.org/en-US/docs/Learn/Tools_and_testing/Understanding_client-side_tools/Command_line) knowledge."
   ]
  },
  {
   "cell_type": "markdown",
   "id": "cb990dfd",
   "metadata": {},
   "source": [
    "### 2.2 Install Hugo\n",
    "\n",
    "Download and install the hugo from [**gohugoio/hugo**](https://github.com/gohugoio/hugo/releases) into your computer."
   ]
  },
  {
   "cell_type": "markdown",
   "id": "eea1e8c6",
   "metadata": {},
   "source": [
    "<div class=\"alert alert-block alert-info\">\n",
    "    <b> Note: </b> Install the latest extended-version of hugo.\n",
    "</div>"
   ]
  },
  {
   "cell_type": "markdown",
   "id": "fed18835",
   "metadata": {},
   "source": [
    "### 2.3 Download A Theme\n",
    "\n",
    "Open terminal and from your home directory type the following commands. \n",
    "\n",
    "\n",
    "```shell\n",
    "git clone https://github.com/wowchemy/starter-hugo-academic.git username_website\n",
    "cd username_website\n",
    "git submodule update --init --recursive\n",
    "```\n",
    "\n",
    "<div class=\"alert alert-block alert-info\">\n",
    "    <b> Note: </b> You must replace 'username' with your GitHub username.\n",
    "</div>"
   ]
  },
  {
   "cell_type": "markdown",
   "id": "44be8f4a",
   "metadata": {},
   "source": [
    "### 2.4 Launch The Website\n",
    "\n",
    "Make sure you are in the <span style=\"color:DimGray;background-color: #F0FFFF\">username_website</span> directory. From the terminal type the following command\n",
    "\n",
    "\n",
    "```shell\n",
    "hugo server\n",
    "```\n",
    "\n",
    "<div class=\"alert alert-block alert-info\">\n",
    "    <b> Note: </b> This will launch a server on your terminal which will locally host your website. Copy the url displayed on the terminal and paste it in the browser of your choice. You must be able to see the website now. \n",
    "\n",
    "\n",
    "</div>\n",
    "\n",
    "***"
   ]
  },
  {
   "cell_type": "markdown",
   "id": "e4573e70",
   "metadata": {},
   "source": [
    "## 3. Basic Customisation"
   ]
  },
  {
   "cell_type": "markdown",
   "id": "14e1cd42",
   "metadata": {},
   "source": [
    "### 3.1 Open Files In Text Editor\n",
    "\n",
    "To customise the website, we need a text editor. You can choose any of your favourite text editor to do the task. In case you are using [**atom**](https://atom.io), you can open the files as follows:\n",
    "\n",
    "Make sure you are in <span style=\"color:DimGray;background-color: #F0FFFF\">username_website</span> directory. Now type\n",
    "\n",
    "```shell\n",
    "atom .\n",
    "```\n",
    "\n",
    "This must open all the files in the directory on atom text editor window. Now if you edit and save any file, the changes should reflect on your local browser window."
   ]
  },
  {
   "cell_type": "markdown",
   "id": "95b5f816",
   "metadata": {},
   "source": [
    "### 3.2 Personal Details Customisaton\n",
    "\n",
    "Following are the basic files you need to modify to customise your website:\n",
    "\n",
    "\n",
    "* <span style=\"color:tomato; background-color: LavenderBlush\">config/_default/config.yaml</span> : Edit this file to modify general website information.\n",
    "* <span style=\"color:tomato; background-color: LavenderBlush\">config/_default/params.yaml</span> : Edit this file to customise your website.\n",
    "* <span style=\"color:tomato; background-color: LavenderBlush\">config/_default/menus.yaml</span>: Edit this file to customise the menu bar.\n",
    "* <span style=\"color:tomato; background-color: LavenderBlush\">content/authors/admin/_index.md</span>: Edit your personal information here.\n",
    "\n",
    "### 3.3 Profile Picture Customisation\n",
    "\n",
    "The profile picture and the website icon can be modified as follows:\n",
    "\n",
    "* <span style=\"color:tomato; background-color: LavenderBlush\">content/authors/admin/avatar.jpg</span> \n",
    "* <span style=\"color:tomato; background-color: LavenderBlush\">assets/media/icon.png</span>\n",
    "\n",
    "Replace  <span style=\"color:tomato; background-color: LavenderBlush\">avatar.jpg</span> and <span style=\"color:tomato; background-color: LavenderBlush\">icon.png</span> with the pictures of your choice. \n",
    "\n",
    "<div class=\"alert alert-block alert-info\">\n",
    "    <b> Note: </b> Do not change the filenames. Just replace the files and retain the same filenames.\n",
    "</div>\n",
    "\n",
    "\n",
    "\n",
    "### 3.4 Widgets Customisation\n",
    "\n",
    "To modify the widgets on your homepage, change the files in the <span style=\"color:tomato; background-color: LavenderBlush\">content/home/</span> folder. In case you want to delete a section, open the related file and set <span style=\"color:tomato; background-color: LavenderBlush\"> active:false</span>. More details about customisation can be found at [**wowchemy**](https://wowchemy.com/docs/getting-started/customization/) website.\n",
    "\n",
    "***"
   ]
  },
  {
   "cell_type": "markdown",
   "id": "f1fcc4fd",
   "metadata": {},
   "source": [
    "## 4. Modify .gitignore File \n",
    "\n",
    "In .gitignore file delete the line saying <span style=\"color:SlateGray;background-color: #F0FFFF\">public/</span>.\n",
    "\n",
    "***\n",
    "\n",
    "## 5. Delete public/ Folder\n",
    "\n",
    "Completely delete <span style=\"color:SlateGray; background-color: #F0FFFF\">public</span> folder if it exists.\n",
    "***"
   ]
  },
  {
   "cell_type": "markdown",
   "id": "c9d6b9d8",
   "metadata": {},
   "source": [
    "## 6. Create A New Repository <span style=\"color:Gray;background-color: #F0FFFF\">username_website</span> On GitHub\n",
    "\n",
    "To create a new repo on GitHub, log in and go to the [**GitHub**](https://github.com) home page. You can find the “New repository” option under the “+” sign next to your profile picture, in the top right corner of the navbar. After clicking the button, GitHub will ask you to name your repo and provide a brief description.\n",
    "\n",
    "* Name the repo <span style=\"color:Gray;background-color: #F0FFFF\">username_website</span>.\n",
    "* Provide a brief description, for example \"Contents of my academic website\".\n",
    "* Click on <span style=\"color:Green\">Create repository</span> button.\n",
    "\n",
    "***"
   ]
  },
  {
   "cell_type": "markdown",
   "id": "52109bc2",
   "metadata": {},
   "source": [
    "## 7. Modify .git/config file\n",
    "\n",
    "**Currently .git/config file looks like shown below**\n",
    "\n",
    "```shell\n",
    "[core]\n",
    "\trepositoryformatversion = 0\n",
    "\tfilemode = true\n",
    "\tbare = false\n",
    "\tlogallrefupdates = true\n",
    "\tignorecase = true\n",
    "\tprecomposeunicode = true\n",
    "[remote \"origin\"]\n",
    "\turl = https://github.com/sourcethemes/academic-kickstart.git\n",
    "\tfetch = +refs/heads/*:refs/remotes/origin/*\n",
    "[branch \"main\"]\n",
    "\tremote = origin\n",
    "\tmerge = refs/heads/main\n",
    "```\n",
    "    \n",
    "**Modify the url to look like this**\n",
    "\n",
    "```shell\n",
    "[core]\n",
    "\trepositoryformatversion = 0\n",
    "\tfilemode = true\n",
    "\tbare = false\n",
    "\tlogallrefupdates = true\n",
    "\tignorecase = true\n",
    "\tprecomposeunicode = true\n",
    "[remote \"origin\"]\n",
    "\turl = git@github.com:username/username_website.git\n",
    "\tfetch = +refs/heads/*:refs/remotes/origin/*\n",
    "[branch \"main\"]\n",
    "\tremote = origin\n",
    "\tmerge = refs/heads/main\n",
    "```\n",
    "\n",
    "***"
   ]
  },
  {
   "cell_type": "markdown",
   "id": "b6f2324d",
   "metadata": {},
   "source": [
    "## 8. Add Files To Staging Area And Create A Commit\n",
    "\n",
    "After you have completed customising the website add all the files to the staging area with the following command. Make sure you are in <span style=\"color:Gray; background-color: #F0FFFF \">username_website</span> directory.\n",
    "\n",
    "```shell\n",
    "git add .\n",
    "```\n",
    "\n",
    "Once all the modified files are added to the staging area, leave a short commit message which summarises your changes.\n",
    "\n",
    "```shell\n",
    "git commit -m \"fully customised version of the website\"\n",
    "```\n",
    "\n",
    "***"
   ]
  },
  {
   "cell_type": "markdown",
   "id": "085c0ce3",
   "metadata": {},
   "source": [
    "## 9. Point Your Directory <span style=\"color:Gray; background-color: #F0FFFF\">username_website</span> To Your Newly Created  <span style=\"color:Gray; background-color: #F0FFFF\">username_website</span> Repo On Github\n",
    "\n",
    "From <span style=\"color:Gray; background-color: #F0FFFF\">username_website</span> directory in the terminal type\n",
    "\n",
    "\n",
    "```shell\n",
    "git push -u origin --all\n",
    "```\n",
    "\n",
    "Now, login to your account in Github and make sure that all the contents of your website are uploaded to <span style=\"color:Gray; background-color: #F0FFFF\">username_website</span> repository. This repository will hold all the contents of your website on Github. Now that we have a secure copy of all the contents, we can move on to create a new repository to host your website. \n",
    "\n",
    "***"
   ]
  },
  {
   "cell_type": "markdown",
   "id": "8fe8bd71",
   "metadata": {},
   "source": [
    "## 10. Create A New Repository <span style=\"color:Gray; background-color: #F0FFFF\">username.github.io</span> On GitHub To Host Your Website\n",
    "\n",
    "Create a new repo on GitHub named <span style=\"color:Gray; background-color: #F0FFFF\">username.github.io</span>. Login and go to the [**GitHub**](https://github.com) home page. You can find the “New repository” option under the “+” sign next to your profile picture, in the top right corner of the navbar. After clicking the button, GitHub will ask you to name your repo and provide a brief description.\n",
    "\n",
    "* Name the repo <span style=\"color:Gray; background-color: #F0FFFF\">username.github.io</span>. The 'username' here must be same as your Github username. \n",
    "* Provide a brief description, for example \"My academic website\". \n",
    "* Click on the Public option \n",
    "* Initialise the repository with a README file and a licence. \n",
    "* Now click on <span style=\"color:Green\">Create repository</span> button.\n",
    "\n",
    "***\n",
    "\n",
    "<div class=\"alert alert-block alert-danger\">\n",
    "<b>Note:</b> Please make sure that these steps are strictly followed without any changes. \n",
    "</div>\n",
    "\n"
   ]
  },
  {
   "cell_type": "markdown",
   "id": "f61834c2",
   "metadata": {},
   "source": [
    "## 11. Update The Website URL\n",
    "\n",
    "Update the website url in <span style=\"color:tomato; background-color: LavenderBlush\">config/_default/config.yaml</span> file. The base url must look like\n",
    "\n",
    "```shell\n",
    "baseURL: 'https://username.github.io/' # Website URL\n",
    "```\n",
    "***"
   ]
  },
  {
   "cell_type": "markdown",
   "id": "e97f04e6",
   "metadata": {},
   "source": [
    "## 12. Clone  <span style=\"color:Gray; background-color: #F0FFFF\">username.github.io</span> To public Directory\n",
    "\n",
    "From the terminal run the following commands:\n",
    "\n",
    "```shell\n",
    "cd username_website\n",
    "git clone https://github.com/username/username.github.io.git public\n",
    "```\n",
    "***\n",
    "\n",
    "\n",
    "<div class=\"alert alert-block alert-info\">\n",
    "<b>Note:</b> If you get: warning: You appear to have cloned an empty repository. – go back to the Github repo and create a README and licence file.\n",
    "</div>\n"
   ]
  },
  {
   "cell_type": "markdown",
   "id": "1887a727",
   "metadata": {},
   "source": [
    "## 13. Make A Test File To See If The Website Works\n",
    "\n",
    "Let us make a text file index.html to check if the website works as intended. From the <span style=\"color:Gray; background-color: #F0FFFF\">username_website</span> directory, type the following commands\n",
    "\n",
    "```shell\n",
    "cd public\n",
    "touch index.html\n",
    "echo '<h1>Hello World - v0</h1>' >> index.html\n",
    "```\n",
    "Now push this change to the Github repository corresponding to the website. That is the repository named <span style=\"color:Gray; background-color: #F0FFFF\">username.github.io</span> using the following command.\n",
    "\n",
    "```shell\n",
    "git add .\n",
    "git commit -m \"test webpage\"\n",
    "git push\n",
    "```\n",
    "\n",
    "**If everything goes well, towards the end of the terminal output you must be able to see the folliwing lines.**\n",
    "\n",
    "```shell\n",
    "To github.com:username/username.github.io.git\n",
    "```\n",
    "\n",
    "<div class=\"alert alert-block alert-success\">\n",
    "<b>Note:</b>  If you see the above line in the terminal window, skip the next step and move on to step 15.\n",
    "</div>\n",
    "\n",
    "\n",
    "**Instead, you might encounter the following error**\n",
    "\n",
    "```shell\n",
    "remote: Permission to username/username.github.io.git denied to username.\n",
    "fatal: unable to access 'https://github.com/username/username.github.io.git/': The requested URL returned error: 403\n",
    "```\n",
    "\n",
    "<div class=\"alert alert-block alert-danger\">\n",
    "<b>Note:</b> In case you encounter the above mentioned error, go to the next step 14.\n",
    "</div>\n",
    "\n",
    "***"
   ]
  },
  {
   "cell_type": "markdown",
   "id": "79792492",
   "metadata": {},
   "source": [
    "## 14. Clone The Repository <span style=\"color:Gray; background-color: #F0FFFF\">username.github.io.git</span> Outside The <span style=\"color:Gray; background-color: #F0FFFF\">username_website</span> Directory\n",
    "\n",
    "Make sure you are outside <span style=\"color:Gray; background-color: #F0FFFF\">username_website</span> directory. Then type the following commands to clone <span style=\"color:Gray; background-color: #F0FFFF\">username.github.io.git</span> repository into your computer.\n",
    "\n",
    "```shell\n",
    "git clone git@github.com:username/username.github.io.git\n",
    "cd username.github.io\n",
    "echo '<h1>Hello World - v1</h1>' >> index.html\n",
    "git add index.html\n",
    "git commit -m \"testing if the website works\"\n",
    "git push\n",
    "```\n",
    "\n",
    "After successfully completing the above procedure we move this repository into the <span style=\"color:Gray; background-color: #F0FFFF\">username_website</span>. Run the following commands from outside the <span style=\"color:Gray; background-color: #F0FFFF\">username_website</span> directory.\n",
    "\n",
    "```shell\n",
    "rm -rf username_website/public\n",
    "mv username.github.io username_website/public\n",
    "```\n",
    "\n",
    "Now type the following commands,\n",
    "\n",
    "```shell\n",
    "cd username_website/public\n",
    "echo '<h1>Hello World - v2</h1>' >> index.html\n",
    "git commit -am \"testing if the website works from within hugo project\"\n",
    "git push\n",
    "```\n",
    "\n",
    "Wait for a few minutes and go to the website **https://username.github.io**. You must be able to see the contents of the newly published index.html page.\n",
    "\n",
    "***"
   ]
  },
  {
   "cell_type": "markdown",
   "id": "8e2111fc",
   "metadata": {},
   "source": [
    "## 15. Configure public As A Submodule\n",
    "\n",
    "Add <span style=\"color:Gray; background-color: #F0FFFF\">username.github.io.git</span> as a submodule using the following commands. Make sure you are in <span style=\"color:Gray; background-color: #F0FFFF\">username_website</span> directory.\n",
    "\n",
    "```shell\n",
    "cd public\n",
    "git submodule add -b master https://github.com/username/username.github.io.git public\n",
    "```\n",
    "\n",
    "Now open .gitmodules file and make sure the contents of the file look like shown below.\n",
    "\n",
    "```shell\n",
    "\n",
    "[submodule \"public\"]\n",
    "\tpath = public\n",
    "\turl = https://github.com/username/username.github.io.git\n",
    "\tbranch = master\n",
    "```\n",
    "\n",
    "***"
   ]
  },
  {
   "cell_type": "markdown",
   "id": "8208ecf4",
   "metadata": {},
   "source": [
    "## 16. Construct And Publish Your Website\n",
    "\n",
    "Now construct your website using the following command. From <span style=\"color:Gray; background-color: #F0FFFF\">username_website</span> directory run the following command.\n",
    "\n",
    "```shell\n",
    "hugo\n",
    "```\n",
    "\n",
    "The above command will construct the html, css and js files necessary to show your website online in public folder. Now run the following commands to push your website online\n",
    "\n",
    "```shell\n",
    "cd public\n",
    "git add .\n",
    "git commit -m \"first version of the website is now online\"\n",
    "git push\n",
    "```\n",
    "<div class=\"alert alert-block alert-success\">\n",
    "<b>Note:</b> This step must be followed every time you make changes to the website. \n",
    "</div>\n",
    "\n",
    "Now go back to  **https://username.github.io** and check out your newly published website!\n",
    "\n",
    "***"
   ]
  },
  {
   "cell_type": "code",
   "execution_count": null,
   "id": "9c980917",
   "metadata": {},
   "outputs": [],
   "source": []
  }
 ],
 "metadata": {
  "kernelspec": {
   "display_name": "Python 3",
   "language": "python",
   "name": "python3"
  },
  "language_info": {
   "codemirror_mode": {
    "name": "ipython",
    "version": 3
   },
   "file_extension": ".py",
   "mimetype": "text/x-python",
   "name": "python",
   "nbconvert_exporter": "python",
   "pygments_lexer": "ipython3",
   "version": "3.8.8"
  }
 },
 "nbformat": 4,
 "nbformat_minor": 5
}
