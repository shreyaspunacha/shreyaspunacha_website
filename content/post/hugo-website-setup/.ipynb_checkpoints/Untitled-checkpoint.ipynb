{
 "cells": [
  {
   "cell_type": "markdown",
   "id": "880f1b84",
   "metadata": {},
   "source": [
    "# How To Build A Academic Website Using Hugo And Github"
   ]
  },
  {
   "cell_type": "markdown",
   "id": "b8d25afd",
   "metadata": {},
   "source": [
    "## Introduction"
   ]
  },
  {
   "cell_type": "markdown",
   "id": "a0c39a33",
   "metadata": {},
   "source": [
    "Write introduction here."
   ]
  },
  {
   "cell_type": "markdown",
   "id": "feed9fd8",
   "metadata": {},
   "source": [
    "##  Create a Website"
   ]
  },
  {
   "cell_type": "markdown",
   "id": "8d3bb707",
   "metadata": {},
   "source": [
    "### Prerequisites\n",
    "\n",
    "* You must have a [**Github**](https://github.com) account.\n",
    "* You must have [**Git**](https://git-scm.com/book/en/v2/Getting-Started-Installing-Git) installed.\n",
    "* You must have [**Go**](https://go.dev/dl/) installed.\n",
    "* You must have basic [**Command line**](https://developer.mozilla.org/en-US/docs/Learn/Tools_and_testing/Understanding_client-side_tools/Command_line) knowledge."
   ]
  },
  {
   "cell_type": "markdown",
   "id": "76b0eeb1",
   "metadata": {},
   "source": [
    "### Install Hugo\n",
    "\n",
    "Download and install the latest extended version of hugo from [**gohugoio/hugo**](https://github.com/gohugoio/hugo/releases)."
   ]
  },
  {
   "cell_type": "markdown",
   "id": "690a0f25",
   "metadata": {},
   "source": [
    "### Download A Theme\n",
    "\n",
    "Open terminal and from your home directory type the following commands. You can replace the 'username' with your github username.\n",
    "\n",
    "```shell\n",
    "git clone https://github.com/wowchemy/starter-hugo-academic.git username_website\n",
    "cd username_website\n",
    "git submodule update --init --recursive\n",
    "```"
   ]
  },
  {
   "cell_type": "markdown",
   "id": "d3c79215",
   "metadata": {},
   "source": [
    "### Launch The Website\n",
    "\n",
    "Make sure you are in the <span style=\"color:Gray\">username_website</span> directory. From the terminal type the following command\n",
    "\n",
    "```shell\n",
    "hugo server\n",
    "```\n",
    "\n",
    "This will launch a server on your terminal which will locally host your website. Copy the url displayed on the terminal and paste it in the browser of your choice. You must be able to see the website now. "
   ]
  },
  {
   "cell_type": "markdown",
   "id": "12db43ef",
   "metadata": {},
   "source": [
    "## Basic Customisation"
   ]
  },
  {
   "cell_type": "markdown",
   "id": "9fb84077",
   "metadata": {},
   "source": [
    "### Open Files In Text Editor\n",
    "\n",
    "To customise the website, we need a text editor. You can choose any of your favourite text editor to do the task. In case you are using [**atom**](https://atom.io), you can open the files as follows:\n",
    "\n",
    "Make sure you are in <span style=\"color:Gray\">username_website</span> directory. Now type\n",
    "\n",
    "```shell\n",
    "atom .\n",
    "```\n",
    "\n",
    "This must open all the files in the directory on atom text editor window."
   ]
  },
  {
   "cell_type": "markdown",
   "id": "347b9477",
   "metadata": {},
   "source": [
    "### Personal Details Customisaton\n",
    "\n",
    "Following are the basic files you need to modify to customise your website:\n",
    "\n",
    "\n",
    "* <span style=\"color:tomato\">config/_default/config.yaml</span> : Edit this file to modify general website information.\n",
    "* <span style=\"color:tomato\">config/_default/params.yaml</span> : Edit this file to customise your website.\n",
    "* <span style=\"color:tomato\">config/_default/menus.yaml</span>: Edit this file to customise the menu bar.\n",
    "* <span style=\"color:tomato\">content/authors/admin/_index.md</span>: Edit your personal information here.\n",
    "\n",
    "### Profile Picture Customisation\n",
    "\n",
    "The profile picture and the website icon can be modified as follows:\n",
    "\n",
    "* <span style=\"color:tomato\">content/authors/admin/avatar.jpg</span> \n",
    "* <span style=\"color:tomato\">assets/media/icon.png</span>\n",
    "\n",
    "Replace  <span style=\"color:tomato\">avatar.jpg</span> and <span style=\"color:tomato\">icon.png</span> with the pictures of your choice. Do not change the filenames.\n",
    "\n",
    "### Widgets Customisation\n",
    "\n",
    "To modify the widgets on your homepage, change the files in the <span style=\"color:tomato\">content/home/</span> folder. In case you want to delete a section, open the related file and set <span style=\"color:tomato\"> active:false</span>. More details about customisation can be found at [**wowchemy**](https://wowchemy.com/docs/getting-started/customization/) website. "
   ]
  },
  {
   "cell_type": "markdown",
   "id": "0ac37524",
   "metadata": {},
   "source": [
    "## Modify .gitignore File \n",
    "\n",
    "In .gitignore file delete the line saying <span style=\"color:IndianRed\">public/</span>.\n",
    "\n",
    "##  Delete public/ Folder\n",
    "\n",
    "Completely delete <span style=\"color:IndianRed\">public</span> folder if it exists."
   ]
  },
  {
   "cell_type": "markdown",
   "id": "6097f1e4",
   "metadata": {},
   "source": [
    "## Create A New Repository <span style=\"color:Gray\">username_website</span> On GitHub\n",
    "\n",
    "To create a new repo on GitHub, log in and go to the [**GitHub**](https://github.com) home page. You can find the “New repository” option under the “+” sign next to your profile picture, in the top right corner of the navbar. After clicking the button, GitHub will ask you to name your repo and provide a brief description.\n",
    "\n",
    "Name the repo <span style=\"color:Gray\">username_website</span>, provice a brief description, for example \"Contents of my academic website\" and click on <span style=\"color:Green\">Create repository</span> button."
   ]
  },
  {
   "cell_type": "markdown",
   "id": "5258e630",
   "metadata": {},
   "source": [
    "## Modify .git/config file\n",
    "\n",
    "Currently .git/config file looks like shown below\n",
    "\n",
    "```shell\n",
    "[core]\n",
    "\trepositoryformatversion = 0\n",
    "\tfilemode = true\n",
    "\tbare = false\n",
    "\tlogallrefupdates = true\n",
    "\tignorecase = true\n",
    "\tprecomposeunicode = true\n",
    "[remote \"origin\"]\n",
    "\turl = https://github.com/sourcethemes/academic-kickstart.git\n",
    "\tfetch = +refs/heads/*:refs/remotes/origin/*\n",
    "[branch \"main\"]\n",
    "\tremote = origin\n",
    "\tmerge = refs/heads/main\n",
    "```\n",
    "    \n",
    "Modify the url to look like this\n",
    "\n",
    "```shell\n",
    "[core]\n",
    "\trepositoryformatversion = 0\n",
    "\tfilemode = true\n",
    "\tbare = false\n",
    "\tlogallrefupdates = true\n",
    "\tignorecase = true\n",
    "\tprecomposeunicode = true\n",
    "[remote \"origin\"]\n",
    "\turl = git@github.com:username/username_website.git\n",
    "\tfetch = +refs/heads/*:refs/remotes/origin/*\n",
    "[branch \"main\"]\n",
    "\tremote = origin\n",
    "\tmerge = refs/heads/main\n",
    "```"
   ]
  },
  {
   "cell_type": "markdown",
   "id": "9179e682",
   "metadata": {},
   "source": [
    "## Add Files To Staging Area And Create A Commit\n",
    "\n",
    "After you have completed customising the website add all the files to the staging area with the following command. Make sure you are in <span style=\"color:Gray\">username_website</span> directory.\n",
    "\n",
    "```shell\n",
    "git add .\n",
    "```\n",
    "\n",
    "Once all the modified files are added to the staging area, leave a short commit message which summarises your changes.\n",
    "\n",
    "```shell\n",
    "git commit -m \"fully customised version of the website\"\n",
    "```"
   ]
  },
  {
   "cell_type": "markdown",
   "id": "091f0990",
   "metadata": {},
   "source": [
    "## Point Your Directory <span style=\"color:Gray\">username_website</span> To Your Newly Created  <span style=\"color:Gray\">username_website</span> Repo On Github\n",
    "\n",
    "From <span style=\"color:Gray\">username_website</span> directory in the terminal type\n",
    "\n",
    "\n",
    "```shell\n",
    "git push -u origin --all\n",
    "```\n",
    "\n",
    "Now, login to your account in Github and make sure that all the contents of your website are uploaded to <span style=\"color:Gray\">username_website</span> repository. This repository will hold all the contents of your website on Github. Now that we have a secure copy of all the contents, we can move on to create a new repository to host your website. "
   ]
  },
  {
   "cell_type": "markdown",
   "id": "bf6b91c7",
   "metadata": {},
   "source": [
    "## Create A New Repository <span style=\"color:Gray\">username.github.io</span> On GitHub To Host Your Website\n",
    "\n",
    "Create a new repo on GitHub named <span style=\"color:Gray\">username.github.io</span>. Login and go to the [**GitHub**](https://github.com) home page. You can find the “New repository” option under the “+” sign next to your profile picture, in the top right corner of the navbar. After clicking the button, GitHub will ask you to name your repo and provide a brief description.\n",
    "\n",
    "* Name the repo <span style=\"color:Gray\">username.github.io</span>. The 'username' here must be same as your Github username. \n",
    "* Provide a brief description, for example \"My academic website\". \n",
    "* Click on the Public option \n",
    "* Initialise the repository with a README file and a licence. \n",
    "\n",
    "Please make sure that these steps are strictly followed without any changes. Now click on <span style=\"color:Green\">Create repository</span> button."
   ]
  },
  {
   "cell_type": "markdown",
   "id": "a0d350e4",
   "metadata": {},
   "source": [
    "## Clone  <span style=\"color:Gray\">username.github.io</span> To public Directory\n",
    "\n",
    "From the terminal run the following commands:\n",
    "\n",
    "```shell\n",
    "cd <span style=\"color:Gray\">username_website</span>\n",
    "git clone https://github.com/username/username.github.io.git public\n",
    "```\n",
    "\n",
    "If you get: warning: You appear to have cloned an empty repository. – go back to the Github repo and create a README and licence file."
   ]
  },
  {
   "cell_type": "markdown",
   "id": "46886bea",
   "metadata": {},
   "source": [
    "## Make A Test File To See If The Website Works\n",
    "\n",
    "Let us make a text file index.html to check if the website works as intended. From the <span style=\"color:Gray\">username_website</span> directory, type the following commands\n",
    "\n",
    "```shell\n",
    "cd public\n",
    "touch index.html\n",
    "echo '<h1>Hello World - v0</h1>' >> index.html\n",
    "```\n",
    "Now push this change to the Github repository corresponding to the website. That is the repository named <span style=\"color:Gray\">username.github.io</span> using the following command.\n",
    "\n",
    "```shell\n",
    "git add .\n",
    "git commit -m \"test webpage\"\n",
    "git push\n",
    "```\n",
    "\n",
    "If everything goes well, towards the end of the terminal output you must be able to see the folliwing lines. In that case, skip the next step and move on to NEXT STEP.\n",
    "\n",
    "```shell\n",
    "To github.com:username/username.github.io.git\n",
    "```\n",
    "\n",
    "Instead, you might encounter the following error\n",
    "\n",
    "```shell\n",
    "remote: Permission to username/username.github.io.git denied to username.\n",
    "fatal: unable to access 'https://github.com/username/username.github.io.git/': The requested URL returned error: 403\n",
    "```\n",
    "\n",
    "In case you encounter the above mentioned error, go to the next step LINK TO THE NEXT STEP."
   ]
  },
  {
   "cell_type": "markdown",
   "id": "439c2146",
   "metadata": {},
   "source": [
    "## Clone The Repository <span style=\"color:Gray\">username.github.io.git</span> Outside The <span style=\"color:Gray\">username_website</span> Directory\n",
    "\n",
    "Make sure you are outside <span style=\"color:Gray\">username_website</span> directory. Then type the following commands to clone <span style=\"color:Gray\">username.github.io.git</span> repository into your computer.\n",
    "\n",
    "```shell\n",
    "git clone git@github.com:username/username.github.io.git\n",
    "cd username.github.io\n",
    "echo '<h1>Hello World - v1</h1>' >> index.html\n",
    "git add index.html\n",
    "git commit -m \"testing if the website works\"\n",
    "git push\n",
    "```\n",
    "\n",
    "After successfully completing the above procedure we move this repository into the <span style=\"color:Gray\">username_website</span>. Run the following commands from outside the <span style=\"color:Gray\">username_website</span> directory.\n",
    "\n",
    "```shell\n",
    "rm -rf username_website/public\n",
    "mv username.github.io username_website/public\n",
    "```\n",
    "\n",
    "Now type the following commands.\n",
    "\n",
    "```shell\n",
    "cd username_website/public\n",
    "echo '<h1>Hello World - v2</h1>' >> index.html\n",
    "git commit -am \"testing if the website works from within hugo project\"\n",
    "git push\n",
    "```\n",
    "\n",
    "Wait for a few minutes and go to the website https://username.github.io. You must be able to see the contents of the newly published index.html page."
   ]
  },
  {
   "cell_type": "markdown",
   "id": "8bc574f9",
   "metadata": {},
   "source": [
    "## Configure public As A Submodule\n",
    "\n",
    "Add <span style=\"color:Gray\">username.github.io.git</span> as a submodule using the following commands. Make sure you are in <span style=\"color:Gray\">username_website</span> directory.\n",
    "\n",
    "```shell\n",
    "cd public\n",
    "git submodule add -b master https://github.com/username/username.github.io.git public\n",
    "```\n",
    "\n",
    "Now open .gitmodules file and make sure the contents of the file look like shown below.\n",
    "\n",
    "```shell\n",
    "\n",
    "[submodule \"public\"]\n",
    "\tpath = public\n",
    "\turl = https://github.com/username/username.github.io.git\n",
    "\tbranch = master\n",
    "```"
   ]
  },
  {
   "cell_type": "code",
   "execution_count": null,
   "id": "a3103776",
   "metadata": {},
   "outputs": [],
   "source": []
  }
 ],
 "metadata": {
  "kernelspec": {
   "display_name": "Python 3",
   "language": "python",
   "name": "python3"
  },
  "language_info": {
   "codemirror_mode": {
    "name": "ipython",
    "version": 3
   },
   "file_extension": ".py",
   "mimetype": "text/x-python",
   "name": "python",
   "nbconvert_exporter": "python",
   "pygments_lexer": "ipython3",
   "version": "3.8.8"
  }
 },
 "nbformat": 4,
 "nbformat_minor": 5
}
