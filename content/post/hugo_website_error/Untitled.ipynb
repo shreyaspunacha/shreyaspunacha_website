{
 "cells": [
  {
   "cell_type": "markdown",
   "id": "7a069bac",
   "metadata": {},
   "source": [
    "# How To Resolve Hugo Error:  from config: failed to resolve output format \"headers\" from site config"
   ]
  },
  {
   "cell_type": "markdown",
   "id": "70b86338",
   "metadata": {},
   "source": [
    "Sometimes you might encounter the following error on typing <span style=\"color:DimGray;background-color: #F0FFFF\">hugo server</span> from your local website directory. "
   ]
  },
  {
   "cell_type": "markdown",
   "id": "9bc879f7",
   "metadata": {},
   "source": [
    "```shell\n",
    "Error: from config: failed to resolve output format \"headers\" from site config\n",
    "```"
   ]
  },
  {
   "cell_type": "markdown",
   "id": "590fcb23",
   "metadata": {},
   "source": [
    "To resolve the error, head over to <span style=\"color:DimGray;background-color: #F0FFFF\">config/_default/config.yaml</span> and temporily rewrite the following line as follows:"
   ]
  },
  {
   "cell_type": "markdown",
   "id": "a50e7b6f",
   "metadata": {},
   "source": [
    "```shell\n",
    "outputs:\n",
    "  home: [RSS, JSON, WebAppManifest]\n",
    "```"
   ]
  },
  {
   "cell_type": "markdown",
   "id": "ef3feda3",
   "metadata": {},
   "source": [
    "Open terminal and from the home directory of the website type the following commands:\n",
    "\n",
    "```shell\n",
    "hugo mod clean\n",
    "hugo mod get -u ./...\n",
    "hugo mod tidy\n",
    "```"
   ]
  },
  {
   "cell_type": "markdown",
   "id": "da975d58",
   "metadata": {},
   "source": [
    "When the update is complete head over to <span style=\"color:DimGray;background-color: #F0FFFF\">config/_default/config.yaml</span> and restore the items that were rewritten. \n",
    "\n",
    "```shell\n",
    "outputs:\n",
    "  home: [HTML, RSS, JSON, WebAppManifest, headers, redirects]\n",
    "```"
   ]
  },
  {
   "cell_type": "markdown",
   "id": "27eae5f1",
   "metadata": {},
   "source": [
    "Now type <span style=\"color:DimGray;background-color: #F0FFFF\">hugo server</span> from the website home directory and it should successfully start a server."
   ]
  },
  {
   "cell_type": "code",
   "execution_count": null,
   "id": "b75113a3",
   "metadata": {},
   "outputs": [],
   "source": []
  }
 ],
 "metadata": {
  "kernelspec": {
   "display_name": "Python 3",
   "language": "python",
   "name": "python3"
  },
  "language_info": {
   "codemirror_mode": {
    "name": "ipython",
    "version": 3
   },
   "file_extension": ".py",
   "mimetype": "text/x-python",
   "name": "python",
   "nbconvert_exporter": "python",
   "pygments_lexer": "ipython3",
   "version": "3.8.8"
  }
 },
 "nbformat": 4,
 "nbformat_minor": 5
}
